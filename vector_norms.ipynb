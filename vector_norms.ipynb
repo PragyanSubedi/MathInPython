{
 "cells": [
  {
   "cell_type": "markdown",
   "metadata": {},
   "source": [
    "# Vector Norms - Finding the Lp norm of a vector"
   ]
  },
  {
   "cell_type": "markdown",
   "metadata": {},
   "source": [
    "Vectors are represented as n-dimensional arrays in Python.\n",
    "\n",
    "And, creating a vector is as simple as following,"
   ]
  },
  {
   "cell_type": "code",
   "execution_count": 3,
   "metadata": {},
   "outputs": [],
   "source": [
    "import numpy as np"
   ]
  },
  {
   "cell_type": "code",
   "execution_count": 4,
   "metadata": {},
   "outputs": [
    {
     "name": "stdout",
     "output_type": "stream",
     "text": [
      "1D Vector: [1] | Shape of vector: (1,)\n",
      "2D Vector: [1 2] | Shape of vector: (2,)\n",
      "3D Vector: [1 2 3] | Shape of vector: (3,)\n"
     ]
    }
   ],
   "source": [
    "one_dimensional_vector = np.array([1]) \n",
    "two_dimensional_vector = np.array([1, 2])\n",
    "three_dimensional_vector = np.array([1, 2, 3])\n",
    "\n",
    "print(f\"1D Vector: {one_dimensional_vector} | Shape of vector: {one_dimensional_vector.shape}\")\n",
    "print(f\"2D Vector: {two_dimensional_vector} | Shape of vector: {two_dimensional_vector.shape}\")\n",
    "print(f\"3D Vector: {three_dimensional_vector} | Shape of vector: {three_dimensional_vector.shape}\")"
   ]
  },
  {
   "cell_type": "markdown",
   "metadata": {},
   "source": [
    "To perform simple vector operations such as addition, subtraction, multiplication or divisions, vectors need to have the same shape. Using two vectors `a` and `b` to demonstrate multiple vector operations,"
   ]
  },
  {
   "cell_type": "code",
   "execution_count": 5,
   "metadata": {},
   "outputs": [],
   "source": [
    "a = np.array([1, 2])\n",
    "b = np.array([3, 4])"
   ]
  },
  {
   "cell_type": "code",
   "execution_count": 6,
   "metadata": {},
   "outputs": [
    {
     "data": {
      "text/plain": [
       "array([4, 6])"
      ]
     },
     "execution_count": 6,
     "metadata": {},
     "output_type": "execute_result"
    }
   ],
   "source": [
    "# Addition -> Performs element wise addition [1+3 2+4] = [4, 6]\n",
    "a + b"
   ]
  },
  {
   "cell_type": "code",
   "execution_count": 7,
   "metadata": {},
   "outputs": [
    {
     "data": {
      "text/plain": [
       "array([-2, -2])"
      ]
     },
     "execution_count": 7,
     "metadata": {},
     "output_type": "execute_result"
    }
   ],
   "source": [
    "# Subtraction -> Performs element wise subtraction [1-3 2-4] = [-2, -2]\n",
    "a - b"
   ]
  },
  {
   "cell_type": "code",
   "execution_count": 8,
   "metadata": {},
   "outputs": [
    {
     "data": {
      "text/plain": [
       "array([3, 8])"
      ]
     },
     "execution_count": 8,
     "metadata": {},
     "output_type": "execute_result"
    }
   ],
   "source": [
    "# Multiplication -> Performs element wise subtraction [1*3 2*4] = [3, 8]\n",
    "a * b "
   ]
  },
  {
   "cell_type": "code",
   "execution_count": 9,
   "metadata": {},
   "outputs": [
    {
     "data": {
      "text/plain": [
       "array([0.33333333, 0.5       ])"
      ]
     },
     "execution_count": 9,
     "metadata": {},
     "output_type": "execute_result"
    }
   ],
   "source": [
    "# Division -> Performs element wise division [1/3 2/4] = [0.33 0.5]\n",
    "a / b"
   ]
  },
  {
   "cell_type": "markdown",
   "metadata": {},
   "source": [
    "Often times in linear algebra, vectors operations involve scalars (or constants) as well. When operating a scalar with a vector, we follow broadcasting, i.e. a scalar gets operated on all vector elements."
   ]
  },
  {
   "cell_type": "code",
   "execution_count": 34,
   "metadata": {},
   "outputs": [
    {
     "data": {
      "text/plain": [
       "array([4, 5])"
      ]
     },
     "execution_count": 34,
     "metadata": {},
     "output_type": "execute_result"
    }
   ],
   "source": [
    "# [3+1 3+2] = [4 5]\n",
    "3 + a "
   ]
  },
  {
   "cell_type": "code",
   "execution_count": 14,
   "metadata": {},
   "outputs": [
    {
     "data": {
      "text/plain": [
       "array([3, 2])"
      ]
     },
     "execution_count": 14,
     "metadata": {},
     "output_type": "execute_result"
    }
   ],
   "source": [
    "# [4-1  4-2] = [3 2]\n",
    "4 - a"
   ]
  },
  {
   "cell_type": "code",
   "execution_count": 15,
   "metadata": {},
   "outputs": [
    {
     "data": {
      "text/plain": [
       "array([2, 4])"
      ]
     },
     "execution_count": 15,
     "metadata": {},
     "output_type": "execute_result"
    }
   ],
   "source": [
    "# [2*1 2*2] = [2 4]\n",
    "2 * a"
   ]
  },
  {
   "cell_type": "code",
   "execution_count": 44,
   "metadata": {},
   "outputs": [
    {
     "data": {
      "text/plain": [
       "array([4., 2.])"
      ]
     },
     "execution_count": 44,
     "metadata": {},
     "output_type": "execute_result"
    }
   ],
   "source": [
    "# [4/1 4/2] = [4 2]\n",
    "4 / a"
   ]
  },
  {
   "cell_type": "code",
   "execution_count": 46,
   "metadata": {},
   "outputs": [
    {
     "data": {
      "text/plain": [
       "array([0.25, 0.5 ])"
      ]
     },
     "execution_count": 46,
     "metadata": {},
     "output_type": "execute_result"
    }
   ],
   "source": [
    "# [1/4 2/4] = [0.25 0.5]\n",
    "a / 4"
   ]
  },
  {
   "cell_type": "markdown",
   "metadata": {},
   "source": [
    "As vectors are nd-arrays in Python, we can calculate their magnitude as well. Generally, L1 and L2 norms are used for calculating the magnitude of a vector. Here is a <a href=\"https://www.youtube.com/watch?v=5fN2J8wYnfw\">good video</a> to learn more about L1 and L2 norms. "
   ]
  },
  {
   "cell_type": "markdown",
   "metadata": {},
   "source": [
    "Since, `a` is a 2D vector with elements `[1, 2]`, $L_1$ and $L_2$ norm are calculated as,\n",
    "\n",
    "$$\n",
    "\n",
    "L_1 = \\lVert \\vec{a} \\rVert_{1} = |a_1| + |a_2|  = |1| + |2| = 1 + 2 = 3 \\ units \\\\ \\\\\n",
    "\n",
    "$$\n",
    "\n",
    "$$\n",
    "\n",
    "L_2 = \\lVert \\vec{a} \\rVert_{2} = \\sqrt{a_1^2 + a_2^2} = \\sqrt{1^{2} + 2^{2}} = \\sqrt{5} = 2.236 \\ units \\\\ \\\\\n",
    "\n",
    "$$\n",
    "\n",
    "And,through generalization, $L_p$ norm or p-norm is calculated as,\n",
    "\n",
    "$$\n",
    "\\lVert \\vec{a} \\rVert_p = \\left(\\sum_{i=1}^{n} |a_i|\\ ^p\\right)^{\\frac{1}{p}}\n",
    "$$\n",
    "\n",
    "Here `n` is the number of elements in the vector whereas `p` is the norm. To learn more about $L_p$ norm, refer to this <a href=\"https://www.youtube.com/watch?v=NKuLYRui-NU\" target=\"__blank__\">video</a>."
   ]
  },
  {
   "cell_type": "code",
   "execution_count": 35,
   "metadata": {},
   "outputs": [
    {
     "name": "stdout",
     "output_type": "stream",
     "text": [
      "L1 norm of vector a = 3\n",
      "L2 norm of vector a = 2.23606797749979\n"
     ]
    }
   ],
   "source": [
    "# L1 Norm\n",
    "l1_norm = np.sum(np.abs(a))\n",
    "\n",
    "# L2 norm\n",
    "l2_norm = np.sqrt(np.square(a[0]) + np.square(a[1]))\n",
    "\n",
    "print(f\"L1 norm of vector a = {l1_norm}\")\n",
    "print(f\"L2 norm of vector a = {l2_norm}\")"
   ]
  },
  {
   "cell_type": "markdown",
   "metadata": {},
   "source": [
    "There are two p values for which the calculation of $L_p$ norm is not intuitive, 0 and $\\infty$. For these the following calculations are done,\n",
    "$$\n",
    "\n",
    "\\lVert \\vec{a} \\rVert_0 = \\text{Count of all non-zero elements in a} = 2 \\ units\n",
    "$$\n",
    "\n",
    "$$\n",
    "\\lVert \\vec{a} \\rVert_\\infty = max(|a_i|) = max(|a_1|, |a_2|) = max(|1|, |2|) = 2 \\ units\n",
    "$$"
   ]
  },
  {
   "cell_type": "code",
   "execution_count": 43,
   "metadata": {},
   "outputs": [
    {
     "name": "stdout",
     "output_type": "stream",
     "text": [
      "L0 norm of vector a = 2.0\n",
      "Linfinity norm of vector a = 2\n"
     ]
    }
   ],
   "source": [
    "# L1 Norm\n",
    "lzero_norm = np.count_nonzero(a)\n",
    "\n",
    "# L2 norm\n",
    "linfinity_norm = np.max(np.abs(a))\n",
    "\n",
    "print(f\"L0 norm of vector a = {l0_norm}\")\n",
    "print(f\"Linfinity norm of vector a = {linfinity_norm}\")"
   ]
  },
  {
   "cell_type": "markdown",
   "metadata": {},
   "source": [
    "Note: $L_0$ is not a vector norm since it doesn't follow the properties dictated to be a norm. The properties are:\n",
    "\n",
    "- Non-negativity: The norm should always be non-negative.\n",
    "- Definiteness: The norm is zero if and only if the vector is zero, i.e., zero vector.\n",
    "- Triangle inequality: The norm of a sum of two vectors is no more than the sum of their norms.\n",
    "- Homogeneity: Multiplying a vector by a scalar multiplies the norm of the vector by the absolute value of the scalar."
   ]
  }
 ],
 "metadata": {
  "kernelspec": {
   "display_name": "Python 3",
   "language": "python",
   "name": "python3"
  },
  "language_info": {
   "codemirror_mode": {
    "name": "ipython",
    "version": 3
   },
   "file_extension": ".py",
   "mimetype": "text/x-python",
   "name": "python",
   "nbconvert_exporter": "python",
   "pygments_lexer": "ipython3",
   "version": "3.10.6"
  }
 },
 "nbformat": 4,
 "nbformat_minor": 2
}
