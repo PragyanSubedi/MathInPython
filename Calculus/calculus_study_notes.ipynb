{
 "cells": [
  {
   "cell_type": "markdown",
   "metadata": {},
   "source": [
    "# Calculus Study Notes - For Quick Revision"
   ]
  },
  {
   "cell_type": "markdown",
   "metadata": {},
   "source": [
    "Written below are key notes from <a href=\"https://www.khanacademy.org/math/calculus-1\" target=\"__blank__\">Khan Academy's course on Calculus</a> and <a href=\"https://www.youtube.com/watch?v=UcWsDwg1XwM&list=PLFW_V3qDH5jRyfpD9uiq6aKVTWIxpbIm3\" target=\"__blank__\">Gilbert Strang's lectures on Calculus</a>."
   ]
  },
  {
   "cell_type": "markdown",
   "metadata": {},
   "source": [
    "#### Limit\n",
    "\n",
    "- For a function with discontinuity at some point, limit helps to approximate the value at that point.\n",
    "\n",
    "- For a function $ f(x) = \\dfrac{x-1}{x+1}$, the function is undefined at $f(1)$. However, we can approximate the value at $x=1$ by taking the limit as,\n",
    "\n",
    "$$\\lim\\limits_{x \\to 1} f(x) = 1 $$\n",
    "\n",
    "- For a function $g(x) = \\begin{cases}  x^2, x \\neq 2 \\\\ 1, x = 2 \\end{cases} $\n",
    "\n",
    "$$\\lim\\limits_{x \\to 2} g(x) = 4 $$\n",
    "\n",
    "- For a function $f(x) = \\dfrac{2x+2}{x+1} $, we can evaluate at -1 to be undefined $\\dfrac{0}{0}$. It can also be written as,\n",
    "\n",
    "$$f(x) = \\dfrac{2(x+1)}{x+1} = \\begin{cases} 2, x \\neq 1 \\\\ \\text{undefined}, x = -1 \\end{cases} $$\n",
    "\n",
    "Then, approximating using limits,\n",
    "\n",
    "$$\\lim\\limits_{x \\to -1} f(x) = 2 $$\n",
    "\n",
    "- For a function $f(x) = \\dfrac{1}{x} $, then, the limit as x approaches 0 is calculated to be,\n",
    "\n",
    "$$\\lim\\limits_{x \\to 0^+} f(x) = \\infty \\\\ \\\\ \\lim\\limits_{x \\to 0^-} f(x) = \\infty$$\n",
    "\n",
    "This can be understood through the following evaluation,"
   ]
  },
  {
   "cell_type": "code",
   "execution_count": 16,
   "metadata": {},
   "outputs": [
    {
     "name": "stdout",
     "output_type": "stream",
     "text": [
      "f(x) = -100000000.0\n",
      "f(x) = -100000000000000000.0\n",
      "f(x) = 100000000.0\n",
      "f(x) = 100000000000000000.0\n"
     ]
    }
   ],
   "source": [
    "def f(x):\n",
    "    return 1/x\n",
    "\n",
    "print(f\"f(x) = { f(-0.00000001):.1f}\")\n",
    "print(f\"f(x) = { f(-0.00000000000000001):.1f}\")\n",
    "print(f\"f(x) = { f(0.00000001):.1f}\")\n",
    "print(f\"f(x) = { f(0.00000000000000001):.1f}\")"
   ]
  },
  {
   "cell_type": "markdown",
   "metadata": {},
   "source": [
    "- For a function $f(x) = \\dfrac{x^2 + 3}{x^3} $, then, the limit as x approaches $\\infty$ is calculated to be,\n",
    "\n",
    "$$\\lim\\limits_{x \\to \\infty} f(x) = 0 $$\n",
    "\n",
    "Note: Look at the highest power of $x$ in cases like this."
   ]
  },
  {
   "cell_type": "markdown",
   "metadata": {},
   "source": [
    "#### Squeeze Theorem: \n",
    "\n",
    "The squeeze theorem, also known as the sandwich theorem or the pinching theorem, is a fundamental concept in calculus used to evaluate limits of functions.\n",
    "\n",
    "It states that if you have three functions, $f(x)$, $g(x)$, and $h(x)$, such that for all $x$ in some interval except possibly at a single point, $f(x) ≤ g(x) ≤ h(x)$, and the limits of $f(x)$ and $h(x)$ as x approaches some value, say $a$, are both equal to a common limit $L$, then the limit of $g(x)$ as $x$ approaches $a$ must also be $L$.\n",
    "\n",
    "Mathematically, if $\\lim\\limits_{x \\to a} f(x) = \\lim\\limits_{x \\to a} h(x) = L $ and $f(x) \\le g(x) \\le h(x)$, then, $\\lim\\limits_{x \\to a} g(x) = L $\n",
    "\n",
    "- For a function $f(x) = \\dfrac{sinx}{x} $, then, the limit as x approaches 0 is calculated to be,\n",
    "\n",
    "$$\\lim\\limits_{x \\to 0} f(x) = 1 $$\n"
   ]
  },
  {
   "cell_type": "markdown",
   "metadata": {},
   "source": []
  }
 ],
 "metadata": {
  "kernelspec": {
   "display_name": "Python 3",
   "language": "python",
   "name": "python3"
  },
  "language_info": {
   "codemirror_mode": {
    "name": "ipython",
    "version": 3
   },
   "file_extension": ".py",
   "mimetype": "text/x-python",
   "name": "python",
   "nbconvert_exporter": "python",
   "pygments_lexer": "ipython3",
   "version": "3.10.6"
  }
 },
 "nbformat": 4,
 "nbformat_minor": 2
}
