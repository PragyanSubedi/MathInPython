{
 "cells": [
  {
   "cell_type": "markdown",
   "metadata": {},
   "source": [
    "# Calculus Study Notes - For Quick Revision"
   ]
  },
  {
   "cell_type": "markdown",
   "metadata": {},
   "source": [
    "Written below are key notes from <a href=\"https://www.khanacademy.org/math/calculus-1\" target=\"__blank__\">Khan Academy's course on Calculus</a>."
   ]
  },
  {
   "cell_type": "markdown",
   "metadata": {},
   "source": [
    "#### Limit\n",
    "\n",
    "- For a function with discontinuity at some point, limit helps to approximate the value at that point.\n",
    "\n",
    "- For a function $ f(x) = \\dfrac{x-1}{x+1}$, the function is undefined at $f(1)$. However, we can approximate the value at $x=1$ by taking the limit as,\n",
    "\n",
    "$$\\lim\\limits_{x \\to 1} f(x) = 1 $$\n",
    "\n",
    "- For a function $g(x) = \\begin{cases}  x^2, x \\neq 2 \\\\ 1, x = 2 \\end{cases} $\n",
    "\n",
    "$$\\lim\\limits_{x \\to 2} g(x) = 4 $$\n",
    "\n",
    "- For a function $f(x) = \\dfrac{2x+2}{x+1} $, we can evaluate at -1 to be undefined $\\dfrac{0}{0}$. It can also be written as,\n",
    "\n",
    "$$f(x) = \\dfrac{2(x+1)}{x+1} = \\begin{cases} 2, x \\neq 1 \\\\ \\text{undefined}, x = -1 \\end{cases} $$\n",
    "\n",
    "Then, approximating using limits,\n",
    "\n",
    "$$\\lim\\limits_{x \\to -1} f(x) = 2 $$\n",
    "\n",
    "- For a function $f(x) = \\dfrac{1}{x} $, then, the limit as x approaches 0 is calculated to be,\n",
    "\n",
    "$$\\lim\\limits_{x \\to 0^+} f(x) = \\infty \\\\ \\\\ \\lim\\limits_{x \\to 0^-} f(x) = \\infty$$\n",
    "\n",
    "This can be understood through the following evaluation,"
   ]
  },
  {
   "cell_type": "code",
   "execution_count": 16,
   "metadata": {},
   "outputs": [
    {
     "name": "stdout",
     "output_type": "stream",
     "text": [
      "f(x) = -100000000.0\n",
      "f(x) = -100000000000000000.0\n",
      "f(x) = 100000000.0\n",
      "f(x) = 100000000000000000.0\n"
     ]
    }
   ],
   "source": [
    "def f(x):\n",
    "    return 1/x\n",
    "\n",
    "print(f\"f(x) = { f(-0.00000001):.1f}\")\n",
    "print(f\"f(x) = { f(-0.00000000000000001):.1f}\")\n",
    "print(f\"f(x) = { f(0.00000001):.1f}\")\n",
    "print(f\"f(x) = { f(0.00000000000000001):.1f}\")"
   ]
  },
  {
   "cell_type": "markdown",
   "metadata": {},
   "source": [
    "- For a function $f(x) = \\dfrac{x^2 + 3}{x^3} $, then, the limit as x approaches $\\infty$ is calculated to be,\n",
    "\n",
    "$$\\lim\\limits_{x \\to \\infty} f(x) = 0 $$\n",
    "\n",
    "Note: Look at the highest power of $x$ in cases like this."
   ]
  },
  {
   "cell_type": "markdown",
   "metadata": {},
   "source": []
  }
 ],
 "metadata": {
  "kernelspec": {
   "display_name": "Python 3",
   "language": "python",
   "name": "python3"
  },
  "language_info": {
   "codemirror_mode": {
    "name": "ipython",
    "version": 3
   },
   "file_extension": ".py",
   "mimetype": "text/x-python",
   "name": "python",
   "nbconvert_exporter": "python",
   "pygments_lexer": "ipython3",
   "version": "3.10.6"
  }
 },
 "nbformat": 4,
 "nbformat_minor": 2
}
