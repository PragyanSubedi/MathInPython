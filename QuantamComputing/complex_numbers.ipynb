{
 "cells": [
  {
   "cell_type": "markdown",
   "metadata": {},
   "source": [
    "# Complex Numbers in Mathematics"
   ]
  },
  {
   "cell_type": "markdown",
   "metadata": {},
   "source": [
    "A complex number is an ordered pair of real numbers, typically written in the form $ a + bi $. Here, $ a $ and $ b $ are real numbers, and $ i $ is the imaginary unit with the property $ i^2 = -1 $. In this notation:\n",
    "- $ a $ is the real part.\n",
    "- $ b $ is the imaginary part.\n",
    "\n",
    "For instance, in the complex number $ 3 + 4i $:\n",
    "- The real part is 3.\n",
    "- The imaginary part is 4."
   ]
  },
  {
   "cell_type": "markdown",
   "metadata": {},
   "source": [
    "#### Addition of Complex Numbers\n",
    "\n",
    "To add two complex numbers, $ z_1 = a + bi $ and $ z_2 = c + di $, we add their corresponding parts:\n",
    "\n",
    "$$ z_1 + z_2 = (a + c) + (b + d)i $$\n",
    "\n",
    "#### Subtraction of Complex Numbers\n",
    "\n",
    "To subtract $ z_2 = c + di$ from $ z_1 = a + bi $, we subtract their corresponding parts:\n",
    "\n",
    "$$  z_1 - z_2 = (a - c) + (b - d)i $$ \n",
    "\n",
    "#### Multiplication of Complex Numbers\n",
    "\n",
    "To multiply two complex numbers, $ z_1 = a + bi $ and $ z_2 = c + di $, we use the distributive property:\n",
    "\n",
    "$$  z_1 \\cdot z_2 = (a + bi)(c + di) = ac + adi + bci + bdi^2 $$ \n",
    "\n",
    "Since $ i^2 = -1 $, this simplifies to:\n",
    "\n",
    "$$  z_1 \\cdot z_2 = (ac - bd) + (ad + bc)i $$ \n",
    "\n",
    "#### Division of Complex Numbers\n",
    "\n",
    "To divide $ z_1 = a + bi $ by $ z_2 = c + di $, we multiply the numerator and denominator by the conjugate of the denominator:\n",
    "\n",
    "$$  \\frac{z_1}{z_2} = \\frac{a + bi}{c + di} \\cdot \\frac{c - di}{c - di} = \\frac{(a + bi)(c - di)}{c^2 + d^2} $$ \n",
    "\n",
    "This simplifies to:\n",
    "\n",
    "$$ \\frac{z_1}{z_2} = \\frac{(ac + bd) + (bc - ad)i}{c^2 + d^2} $$ \n",
    "\n",
    "### Polar Representation\n",
    "\n",
    "A complex number $ z = a + bi $ can also be represented in polar form. The polar form expresses the complex number in terms of its magnitude (or modulus) and its angle (or argument).\n",
    "\n",
    "- The magnitude $ r $ of $ z $ is given by:\n",
    "\n",
    "$$  r = |z| = \\sqrt{a^2 + b^2} $$ \n",
    "\n",
    "- The argument $ \\theta $ of $ z $ is the angle it makes with the positive real axis, calculated using:\n",
    "\n",
    "$$  \\theta = \\tan^{-1}\\left(\\frac{b}{a}\\right) $$ \n",
    "\n",
    "In polar form, $ z $ is expressed as:\n",
    "\n",
    "$$  z = r(\\cos \\theta + i \\sin \\theta) $$ \n",
    "\n",
    "Here's how we can implement the discussed operations in Python:\n"
   ]
  },
  {
   "cell_type": "code",
   "execution_count": 5,
   "metadata": {},
   "outputs": [
    {
     "name": "stdout",
     "output_type": "stream",
     "text": [
      "z1 = (3+4j)\n",
      "z2 = (1+2j)\n",
      "Addition: z1 + z2 = (4+6j)\n",
      "Subtraction: z1 - z2 = (2+2j)\n",
      "Multiplication: z1 * z2 = (-5+10j)\n",
      "Division: z1 / z2 = (2.2-0.4j)\n",
      "Magnitude of z1 = 5.0\n",
      "Angle of z1 (in radians) = 0.9272952180016122\n",
      "Polar representation of z1 = (5.0, 0.9272952180016122)\n"
     ]
    }
   ],
   "source": [
    "import cmath\n",
    "\n",
    "# Define two complex numbers\n",
    "z1 = complex(3, 4)  # 3 + 4i\n",
    "z2 = complex(1, 2)  # 1 + 2i\n",
    "\n",
    "# Addition\n",
    "addition = z1 + z2\n",
    "\n",
    "# Subtraction\n",
    "subtraction = z1 - z2\n",
    "\n",
    "# Multiplication\n",
    "multiplication = z1 * z2\n",
    "\n",
    "# Division\n",
    "division = z1 / z2\n",
    "\n",
    "# Polar representation\n",
    "magnitude_z1 = abs(z1)\n",
    "angle_z1 = cmath.phase(z1)\n",
    "polar_z1 = cmath.polar(z1)\n",
    "\n",
    "# Display results\n",
    "print(\"z1 =\", z1)\n",
    "print(\"z2 =\", z2)\n",
    "print(\"Addition: z1 + z2 =\", addition)\n",
    "print(\"Subtraction: z1 - z2 =\", subtraction)\n",
    "print(\"Multiplication: z1 * z2 =\", multiplication)\n",
    "print(\"Division: z1 / z2 =\", division)\n",
    "print(\"Magnitude of z1 =\", magnitude_z1)\n",
    "print(\"Angle of z1 (in radians) =\", angle_z1)\n",
    "print(\"Polar representation of z1 =\", polar_z1)\n"
   ]
  },
  {
   "cell_type": "markdown",
   "metadata": {},
   "source": []
  }
 ],
 "metadata": {
  "kernelspec": {
   "display_name": "Python 3",
   "language": "python",
   "name": "python3"
  },
  "language_info": {
   "codemirror_mode": {
    "name": "ipython",
    "version": 3
   },
   "file_extension": ".py",
   "mimetype": "text/x-python",
   "name": "python",
   "nbconvert_exporter": "python",
   "pygments_lexer": "ipython3",
   "version": "3.10.6"
  }
 },
 "nbformat": 4,
 "nbformat_minor": 2
}
