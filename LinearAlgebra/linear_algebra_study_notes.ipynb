{
 "cells": [
  {
   "cell_type": "markdown",
   "metadata": {},
   "source": [
    "# Vector Flash Cards"
   ]
  },
  {
   "cell_type": "markdown",
   "metadata": {},
   "source": [
    "Written below are key notes from <a href=\"https://www.khanacademy.org/math/linear-algebra\" target=\"__blank__\">Khan Academy's course on  Linear Algebra</a>."
   ]
  },
  {
   "cell_type": "markdown",
   "metadata": {},
   "source": [
    "---"
   ]
  },
  {
   "cell_type": "markdown",
   "metadata": {},
   "source": [
    "## Unit 1: Vectors\n",
    "\n",
    "*Vector basics:*\n",
    "\n",
    "- Vectors can exist anywhere in the coordinate system and are not necessarily to be placed in the origin. Their magnitude and direction is what is important.\n",
    "\n",
    "- The element-wise addition of two vectors $x$ and $y$ is equal to the resulting vector following the direction and magnitude of vector $y$ from the head of vector $x$.\n",
    "\n",
    "$$ \\vec{x} + \\vec{y} = \\text{Magnitude and direction of vector y from the head of x vector } $$\n",
    "\n",
    "- The real coordinate system is defined by $R^n$ where n is the dimension of the vectors in the coordinate system. \n",
    "\n",
    "- The scaling of vector through the use of a scalar results in the change of magnitude (if the scalar is > 0) or in the change of magnitude as well as direction (if the scalar is <0).\n",
    "\n",
    "$$2\\vec{x} = \\text{The magnitude of vector x increases by 2 times but the direction stays the same}$$\n",
    "\n",
    "$$-2\\vec{x} = \\text{The magnitude of vector x increases by 2 times but the direction flips in the opposite direction}$$\n",
    "\n",
    "*Addition and subtraction of vectors:*\n",
    "\n",
    "- The element-wise subtraction of two vectors is equal to $\\vec{x} - \\vec{y} = \\vec{x} + (-1) \\vec{y} $.\n",
    "\n",
    "- In $R^2$, a unit-vector $\\hat{i} = \\begin{bmatrix} 1 \\\\ 0 \\end{bmatrix}$ and $\\hat{j} = \\begin{bmatrix} 0 \\\\ 1 \\end{bmatrix}$ can form any vector in the space as: $scalar * \\hat{i} + scalar * \\hat{j}$. Therefore, these two vectors can be termed as the basis of $R^2$.\n",
    "\n",
    "- If $\\vec{a} = 2\\hat{i} + 3\\hat{j}$ and $\\vec{b} = -1\\hat{i} + 4\\hat{j}$ are two vectors, their vector sum can be obtained as, \n",
    "\n",
    "$$\\vec{a} + \\vec{b} = (2 + (-1))\\hat{i} + (3 + 4)\\hat{j} = \\hat{i} + 7{j}$$ \n",
    "\n",
    "*Parameterizing lines in any dimensions:*\n",
    "\n",
    "- In $R^2$, a set of vectors $S = \\{scalar*\\vec{v} \\ | \\ scalar \\in {R}\\}$, are a collinear set of vectors. Here, $\\vec{v}$ gives the slope of the line formed by the set of vectors $S$. \n",
    "\n",
    "- If any vector $\\vec{x}$ is added to all elements of $S$ it creates a parallel line such that the set of this newly formed line, say ${L}$ is given by: $L = \\{\\vec{x} + scalar*\\vec{v} \\ | \\ scalar \\in {R}\\}$. This is a general form of parameterizing lines in $R^n$ coordinate systems.\n",
    "\n",
    "- To find a line passing through both $\\vec{a}$ and $\\vec{b}$, the line can be obtained as the set of $\\vec{a} + scalar * (\\vec{b} - \\vec{a}) \\ | \\ scalar \\in R \\} $ or {$\\vec{b} + scalar * (\\vec{b} - \\vec{a}) \\ | \\ scalar \\in R \\} $. This holds true for any dimension of R.\n"
   ]
  },
  {
   "cell_type": "markdown",
   "metadata": {},
   "source": [
    "---"
   ]
  },
  {
   "cell_type": "markdown",
   "metadata": {},
   "source": []
  }
 ],
 "metadata": {
  "language_info": {
   "name": "python"
  }
 },
 "nbformat": 4,
 "nbformat_minor": 2
}
