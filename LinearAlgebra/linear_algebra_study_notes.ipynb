{
 "cells": [
  {
   "cell_type": "markdown",
   "metadata": {},
   "source": [
    "# Linear Algebra Study Notes - For Quick Revision"
   ]
  },
  {
   "cell_type": "markdown",
   "metadata": {},
   "source": [
    "Written below are key notes from <a href=\"https://www.khanacademy.org/math/linear-algebra\" target=\"__blank__\">Khan Academy's course on  Linear Algebra</a>."
   ]
  },
  {
   "cell_type": "markdown",
   "metadata": {},
   "source": [
    "---"
   ]
  },
  {
   "cell_type": "markdown",
   "metadata": {},
   "source": [
    "## Vectors\n",
    "\n",
    "*Basics of Vector and real coordinate spaces:*\n",
    "\n",
    "- Vectors can exist anywhere in the coordinate system and are not necessarily to be placed in the origin. Their magnitude and direction is what is important.\n",
    "\n",
    "- The element-wise addition of two vectors $x$ and $y$ is equal to the resulting vector following the direction and magnitude of vector $y$ from the head of vector $x$.\n",
    "\n",
    "$$ \\vec{x} + \\vec{y} = \\text{Magnitude and direction of vector y from the head of x vector } $$\n",
    "\n",
    "- The real coordinate system is defined by $R^n$ where n is the dimension of the vectors in the coordinate system. \n",
    "\n",
    "- The scaling of vector through the use of a scalar results in the change of magnitude (if the scalar is > 0) or in the change of magnitude as well as direction (if the scalar is <0).\n",
    "\n",
    "$$2\\vec{x} = \\text{The magnitude of vector x increases by 2 times but the direction stays the same}$$\n",
    "\n",
    "$$-2\\vec{x} = \\text{The magnitude of vector x increases by 2 times but the direction flips in the opposite direction}$$\n",
    "\n",
    "*Addition and subtraction of vectors:*\n",
    "\n",
    "- The element-wise subtraction of two vectors is equal to $\\vec{x} - \\vec{y} = \\vec{x} + (-1) \\vec{y} $.\n",
    "\n",
    "- In $R^2$, a unit-vector $\\hat{i} = \\begin{bmatrix} 1 \\\\ 0 \\end{bmatrix}$ and $\\hat{j} = \\begin{bmatrix} 0 \\\\ 1 \\end{bmatrix}$ can form any vector in the space as: $scalar * \\hat{i} + scalar * \\hat{j}$. Therefore, these two vectors can be termed as the basis of $R^2$.\n",
    "\n",
    "- If $\\vec{a} = 2\\hat{i} + 3\\hat{j}$ and $\\vec{b} = -1\\hat{i} + 4\\hat{j}$ are two vectors, their vector sum can be obtained as, \n",
    "\n",
    "$$\\vec{a} + \\vec{b} = (2 + (-1))\\hat{i} + (3 + 4)\\hat{j} = \\hat{i} + 7{j}$$ \n",
    "\n",
    "*Parameterizing lines in any dimensions:*\n",
    "\n",
    "- In $R^2$, a set of vectors $S = \\{scalar*\\vec{v} \\ | \\ scalar \\in {R}\\}$, are a collinear set of vectors. Here, $\\vec{v}$ gives the slope of the line formed by the set of vectors $S$. \n",
    "\n",
    "- If any vector $\\vec{x}$ is added to all elements of $S$ it creates a parallel line such that the set of this newly formed line, say ${L}$ is given by: $L = \\{\\vec{x} + scalar*\\vec{v} \\ | \\ scalar \\in {R}\\}$. This is a general form of parameterizing lines in $R^n$ coordinate systems.\n",
    "\n",
    "- To find a line passing through both $\\vec{a}$ and $\\vec{b}$, the line can be obtained as the set of $\\vec{a} + scalar * (\\vec{b} - \\vec{a}) \\ | \\ scalar \\in R \\} $ or {$\\vec{b} + scalar * (\\vec{b} - \\vec{a}) \\ | \\ scalar \\in R \\} $. This holds true for any dimension of R.\n",
    "\n",
    "\n",
    "*Linear combination of vectors and span:*\n",
    "\n",
    "- Linear combination in simple terms is just the scaling and addition of vectors.\n",
    "\n",
    "- The linear combination of vectors, $\\vec{a_{1}},\\vec{a_{2}}, \\dots , \\vec{a_{n}}$ in $R^n$ with scalars, $c_{1},c_{2}, \\dots , c_{n} \\in R$ , is written as,\n",
    "\n",
    "$$\\vec{r} = c_1 \\vec{a_1} + c_2 \\vec{a_2} + \\dots + c_n \\vec{a_n}$$\n",
    "\n",
    "- Any point in $R^2$ can be obtained with the linear combination of two vectors $\\vec{a}$ and $\\vec{b}$ in the given space. The set of all such linear combinations is known as the span of the vectors in the given space, that is, $\\text{span}(\\vec{a}, \\vec{b}) = R^2$ except for zero vectors and collinear vectors. \n",
    "\n",
    "- The span of zero vector is the zero vector itself, $\\text{span}(\\vec{0}) = 0$ and the span of two collinear vectors ($\\vec{a}$ and $\\vec{b}$) is a straight line, $\\text{span}(\\vec{a}, \\vec{b}) = scalar*\\vec{a} $ or $\\text{span}(\\vec{a}, \\vec{b}) = scalar*\\vec{b}$\n",
    "\n",
    "- To generalize for $R^n$, the span of vectors  $\\vec{a_{1}},\\vec{a_{2}}, \\dots , \\vec{a_{n}}$ in $R^n$ with scalars, $c_{1},c_{2}, \\dots , c_{n} \\in R$ is written as,\n",
    "\n",
    "$$\\text{span}(\\vec{a_{1}},\\vec{a_{2}}, \\dots , \\vec{a_{n}}) = \\{c_1 \\vec{a_1} + c_2 \\vec{a_2} + \\dots + c_n \\vec{a_n} \\ | \\ c_i \\in R \\ \\text{for} \\ i \\le i \\le n\\}$$\n",
    " \n",
    "*Linear dependence and independence:*\n",
    "\n",
    "- Linearly dependent vectors refers to the fact that one of the vectors in a vector set can be represented by some linear combination of the other vectors in the set.\n",
    "\n",
    "- Formally, for a set of vectors $\\{\\vec{a_1} , \\vec{a_2} , ... , \\vec{a_n}\\}$ in vector space $R^n$, then the set of vectors is linearly dependent for some scalars ($c_{1},c_{2}, ... , c_{n} \\in {\\rm R}$), such that the following equation is satisfied given at least one of the scalars is non-zero,\n",
    "\n",
    "$$c_{1} \\vec{a_1} + c_{2} \\vec{a_2} + ... + c_{n-1} \\vec{a_{n-1}} = c_{n} \\vec{a_n}$$\n",
    "\n",
    "or, this can also be expressed as,\n",
    "\n",
    "$$c_{1} \\vec{a_1} + c_{2} \\vec{a_2} + ... +c_{n} \\vec{a_n} = \\vec{0}$$\n",
    "\n",
    "- A set of vectors are said to be linearly independent if no linear combination of vectors in a vector set can create another vector in that set.\n",
    "\n",
    "*Linear subspaces and basis:*\n",
    "\n",
    "- The subspace of $R^n$ is a subset of vectors belonging to $R^n$ if the subset includes the $\\vec{0}$, $\\vec{x}$ + $\\vec{y}$ and $c\\vec{x}$ for any two vectors $\\vec{x}$ and $\\vec{y}$ in the subspace.\n",
    "\n",
    "- $\\vec{x}$ + $\\vec{y}$ represents closure under addition such that the addition of two vectors $\\vec{x}$ and $\\vec{y}$ in the subspace of $R^n$ still falls in the same subspace.\n",
    "\n",
    "- $c\\vec{x}$ represents closure under scalar multiplication such that any scaled version of $\\vec{x}$ in the subspace of $R^n$ still falls in the same subspace.\n",
    "\n",
    "- If the span of set of vectors in a subspace are linearly independent, then, they form the basis of the subspace. More formally, basis is the minimum set of vectors that spans a subspace.\n",
    "\n",
    "*Dot product of vectors:*\n",
    "\n",
    "- The dot product of vectors is the total sum of element wise multiplication of two vectors which results in a scalar such that,\n",
    "\n",
    "$$ \\vec{a} \\cdot \\vec{b} = a_1.b_1 + a_2.b_2 + \\dots + a_n.b_n$$\n",
    "\n",
    "- The dot product of a vector with itself, $ \\vec{a} \\cdot \\vec{a} $ results in,\n",
    "\n",
    "$$ \\vec{a} \\cdot \\vec{a} = \\lVert \\vec{a} \\rVert^2 $$\n",
    "\n",
    "- Dot products exhibit commutative, distributive and associativity properties.\n",
    "\n",
    "*Cauchy-Schwarz and Vector Triangle Inequality:*\n",
    "\n",
    "- The Cauchy-Schwarz Inequality states that for any two vectors $\\vec{a}$ and $\\vec{b}$ in an inner product space, such as Euclidean space, the following inequality holds:\n",
    "\n",
    "$$|\\vec{a} \\cdot \\vec{b}| \\le \\|\\vec{a}\\| \\|\\vec{b}\\| $$\n",
    "\n",
    "- The Vector Triangle Inequality, states that in a vector space, the length of any side of a triangle formed by adding two vectors together is less than or equal to the sum of the lengths of the other two sides.\n",
    "\n",
    "$$|\\vec{a} + \\vec{b}| \\le \\|\\vec{a}\\| + \\|\\vec{b}\\| $$"
   ]
  },
  {
   "cell_type": "markdown",
   "metadata": {},
   "source": [
    "---"
   ]
  },
  {
   "cell_type": "markdown",
   "metadata": {},
   "source": []
  }
 ],
 "metadata": {
  "language_info": {
   "name": "python"
  }
 },
 "nbformat": 4,
 "nbformat_minor": 2
}
